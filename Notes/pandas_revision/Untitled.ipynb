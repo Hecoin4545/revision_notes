{
 "cells": [
  {
   "cell_type": "markdown",
   "id": "231fb526-f58f-4561-ba86-bd24ab28435c",
   "metadata": {},
   "source": [
    "# Basic analysis"
   ]
  },
  {
   "cell_type": "code",
   "execution_count": null,
   "id": "84f4b209-1089-41b8-a7e6-8fb67f4f978b",
   "metadata": {},
   "outputs": [],
   "source": [
    "# if i want to get first 5 element \n",
    "df.head()\n",
    "\n",
    "# if i want to get last 5 element \n",
    "df.tail()\n",
    "\n",
    "#if i want to check the datatype of any column\n",
    "df.dtypes\n",
    "# lets say humne sirf integer datatype hi chahiye baki sab ko filter karna ho than \n",
    "drinks.select_dtypes(include='number')\n",
    "\n",
    "# if i want to get more mathematical information \n",
    "df.describe()\n",
    "\n",
    "# if we want to find if there is ant null value and if yes how many are their than we can use \n",
    "df.isnull().sum()\n",
    "\n",
    "# if we want to fill all the NAN values will any specific thing than we can use \n",
    "df.fillna(0)\n",
    "\n",
    "# if we want to rename any columns than \n",
    "df.rename(columns = {'name':\"name_of_person\" , \"place\":\"birth_place\"} , inplace = True)\n",
    "# here inplace will make sure that changes are made permanently \n",
    "\n",
    "# if we want to convert any specific columns from int to float or any other datatype\n",
    "df['marks'] = df['marks'].astype(float)\n",
    "\n",
    "# agar hume nan ki values ko bhi count karna ho jo orginally toh count nhi hoti than \n",
    "mask = df['search_conducted'] == False \n",
    "df[mask]['search_type'].value_counts(dropna=False)\n",
    "\n",
    "# agar koi string mai we have to check wheather a particular word is coming or not than we can use \n",
    "df['frisk']  = df['search_type'].str.contains(\"Protective Frisk\")\n",
    "\n",
    "# agar hume year wise seperate karna ho and koi find karna ho than \n",
    "df['stop_date'].str.slice(0,4).value_counts()\n",
    "\n",
    "# agar hume more than one column ko combine karna ho than \n",
    "combined = df.stop_date.str.cat(df.stop_time , sep = \" \" )\n",
    "df['stop_datetime'] = pd.to_datetime(combined)\n",
    "# this will have a datetime datatime so if we want to access this than we can use \n",
    "df['stop_datetime'].dt.year\n",
    "\n",
    "# if we want to remove none value and not nan value than we can use \n",
    "a = students.dropna(subset=['name'] , inplace=True)\n",
    "\n"
   ]
  },
  {
   "cell_type": "markdown",
   "id": "a014f5a6-12d8-4a79-b473-968435d63fca",
   "metadata": {},
   "source": [
    "# loc function"
   ]
  },
  {
   "cell_type": "code",
   "execution_count": null,
   "id": "668f5e51-ae07-440f-a54a-1a13d07ef73e",
   "metadata": {},
   "outputs": [],
   "source": [
    "# It is used to detect a specific row through specific filtering \n",
    "df.loc([df['name'] == \"het shah\"])"
   ]
  },
  {
   "cell_type": "markdown",
   "id": "454fafa3-a698-4c3b-8746-729bc82b1a69",
   "metadata": {},
   "source": [
    "# i-loc function"
   ]
  },
  {
   "cell_type": "code",
   "execution_count": null,
   "id": "736b89e7-97f1-4711-b472-7dcc2051adc0",
   "metadata": {},
   "outputs": [],
   "source": [
    "# it is used to detect a specific through index number \n",
    "#lets say if i want to get the name which is present in 3 row and 4 column that i will write \n",
    "df.iloc[3][4]"
   ]
  },
  {
   "cell_type": "markdown",
   "id": "1ee12025-1664-431b-81ff-b7ea5c4facb3",
   "metadata": {},
   "source": [
    "# at function "
   ]
  },
  {
   "cell_type": "code",
   "execution_count": null,
   "id": "6735f6e7-f467-4c95-a6af-fa3e90714467",
   "metadata": {},
   "outputs": [],
   "source": [
    "# if we want to get specific index row and from a specific column than \n",
    "df.at[1,'city']"
   ]
  },
  {
   "cell_type": "markdown",
   "id": "8b0079f5-0de0-4d07-8ac0-522832e80b39",
   "metadata": {},
   "source": [
    "# How to add and drop column"
   ]
  },
  {
   "cell_type": "code",
   "execution_count": null,
   "id": "41dc7463-b8d5-4acf-b2aa-8c3f2a839f4c",
   "metadata": {},
   "outputs": [],
   "source": [
    "# To drop a specific column \n",
    "df.drop('salary' , axis=1 , inplace)\n",
    "# axis=1 will make sure that it drops from column only \n",
    "\n",
    "# to add a specific column \n",
    "df[\"new column name\"] = df[\"old column\"]*2\n",
    "\n",
    "# If we need to drop columns where all columns are nan than we can use \n",
    "df.dropna(axis='columns' , how='all')\n"
   ]
  },
  {
   "cell_type": "markdown",
   "id": "e9443ea1-da7e-494b-bbf0-9bc4eeb4f0f9",
   "metadata": {},
   "source": [
    "# Group by method in pandas"
   ]
  },
  {
   "cell_type": "code",
   "execution_count": null,
   "id": "84e34453-8018-4666-8eb5-57641b0cf82d",
   "metadata": {},
   "outputs": [],
   "source": [
    "# groupby method is used to catogorised it into specific values\n",
    "df.groupby(\"job profile\")['salary'].sum()\n",
    "\n",
    "# agar kahi pucha ho kitne values hai after groupby and asi koi particular column na ho than \n",
    "a.groupby('driver_gender')['driver_gender'].value_counts(normalize = True)\n",
    "# Here normalize = true will give the values in the form of percentage \n",
    "\n",
    "# agar kahi pe more than one values ho after filtering but hume specific ka hi chahiye ho than we can use \n",
    "df.groupby('driver_gender').violation.value_counts().loc[: ,\"Speeding\"] "
   ]
  },
  {
   "cell_type": "markdown",
   "id": "b98375db-7263-4e10-86ef-c8805aff991f",
   "metadata": {},
   "source": [
    "# Merging in pandas "
   ]
  },
  {
   "cell_type": "code",
   "execution_count": null,
   "id": "e2f35feb-d597-4f39-a6d1-cc4bf22f6ce9",
   "metadata": {},
   "outputs": [],
   "source": [
    "df.merge(d1 , d2 , on='salary' , how='inner')\n",
    "# in on attribute we have to specific the column through which we have to merge two dataframe \n",
    "\n",
    "# how will have four values \n",
    "# 1. \"inner\" it will just behave like intersection \n",
    "# 2. \"outer\" it will just behave like union \n",
    "# 3. \"left\" it will just behave like a-b value \n",
    "# 4. \"right\" it will just behave like b-a value \n"
   ]
  },
  {
   "cell_type": "markdown",
   "id": "d0ce9936-6047-432b-bd6b-8e0d9839690f",
   "metadata": {},
   "source": [
    "# Advanced Analysis "
   ]
  },
  {
   "cell_type": "code",
   "execution_count": null,
   "id": "64f59348-17d4-4d8c-a826-e3681dcb439b",
   "metadata": {},
   "outputs": [],
   "source": [
    "# agar koi row ki values ko columns mai lena ho than we can use \n",
    "    a = weather.pivot(index='month' , columns='city' , values='temperature')\n",
    "    return a\n",
    "# agar hume koi particular columns ko rows mai convert karna ho and also new columns bhi add karna ho than \n",
    "   return report.melt(id_vars='product',value_vars=['quarter_1','quarter_2','quarter_3','quarter_4'], var_name='quarter',value_name='sales')"
   ]
  }
 ],
 "metadata": {
  "kernelspec": {
   "display_name": "Python 3 (ipykernel)",
   "language": "python",
   "name": "python3"
  },
  "language_info": {
   "codemirror_mode": {
    "name": "ipython",
    "version": 3
   },
   "file_extension": ".py",
   "mimetype": "text/x-python",
   "name": "python",
   "nbconvert_exporter": "python",
   "pygments_lexer": "ipython3",
   "version": "3.13.3"
  }
 },
 "nbformat": 4,
 "nbformat_minor": 5
}
