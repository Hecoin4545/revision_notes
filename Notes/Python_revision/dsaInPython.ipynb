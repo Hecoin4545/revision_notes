{
 "cells": [
  {
   "cell_type": "markdown",
   "id": "3f0a32f2-4c60-4713-86b7-5a5a431fffd6",
   "metadata": {},
   "source": [
    "# DSA In Python"
   ]
  },
  {
   "cell_type": "code",
   "execution_count": 6,
   "id": "dd62a263-3a23-4b81-be34-bef83aef6f00",
   "metadata": {},
   "outputs": [
    {
     "data": {
      "text/plain": [
       "15"
      ]
     },
     "execution_count": 6,
     "metadata": {},
     "output_type": "execute_result"
    }
   ],
   "source": [
    "def sumOfN(a):\n",
    "    if a == 1:\n",
    "        return 1\n",
    "    return a + sumOfN(a-1)\n",
    "sumOfN(5)"
   ]
  },
  {
   "cell_type": "code",
   "execution_count": null,
   "id": "a0bceae9-1fba-48ce-8dc8-8c042b21f5fe",
   "metadata": {},
   "outputs": [],
   "source": []
  }
 ],
 "metadata": {
  "kernelspec": {
   "display_name": "Python 3 (ipykernel)",
   "language": "python",
   "name": "python3"
  },
  "language_info": {
   "codemirror_mode": {
    "name": "ipython",
    "version": 3
   },
   "file_extension": ".py",
   "mimetype": "text/x-python",
   "name": "python",
   "nbconvert_exporter": "python",
   "pygments_lexer": "ipython3",
   "version": "3.13.3"
  }
 },
 "nbformat": 4,
 "nbformat_minor": 5
}
