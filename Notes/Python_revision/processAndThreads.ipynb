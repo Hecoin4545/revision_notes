{
 "cells": [
  {
   "cell_type": "markdown",
   "id": "1af83418-dfe6-40a2-8e7a-c732470ec1a0",
   "metadata": {},
   "source": [
    "# Process and Threads In python "
   ]
  },
  {
   "cell_type": "markdown",
   "id": "11c4f64b-4c67-4e89-9f7b-d9d1c86b086c",
   "metadata": {},
   "source": [
    "## What is process"
   ]
  },
  {
   "cell_type": "code",
   "execution_count": 1,
   "id": "45e0462b-f2b0-47d4-8f1e-f521334f39cb",
   "metadata": {},
   "outputs": [],
   "source": [
    "# A process is simple an instance of a program that is begin executed \n",
    "# It will use seperate memory spance so agar two browser are open and ek mai problem hai than it wont affect the other \n",
    "# But it will increase the execution time to switch between process "
   ]
  },
  {
   "cell_type": "markdown",
   "id": "4cdef62d-a283-4971-bbec-0a47a641d1b0",
   "metadata": {},
   "source": [
    "## What is a Thread "
   ]
  },
  {
   "cell_type": "code",
   "execution_count": 2,
   "id": "2f4c02e8-23b8-4322-b4c2-ace4d78313fd",
   "metadata": {},
   "outputs": [],
   "source": [
    "# A thread is a unit of execution within a process \n",
    "\n",
    "# There are diffeerent types of threads  like single thread and multi thread process\n",
    "# Each thread will have its own stack and register \n"
   ]
  },
  {
   "cell_type": "markdown",
   "id": "671e73df-d24b-401e-9839-96a7b80467e2",
   "metadata": {},
   "source": [
    "## When to use multi threading process?"
   ]
  },
  {
   "cell_type": "code",
   "execution_count": null,
   "id": "15996005-6444-4e49-af38-646d777f4fbf",
   "metadata": {},
   "outputs": [],
   "source": [
    "# Use it when tasks spend more time waiting for I/O operations\n",
    "# It can also be used when you want to imporve the throughtput of the applocation \n",
    "\n",
    "# Here lets say time.sleep is a i/o operation so isme hoga kya phele print number wala function run hoga dhire dhire than print letter wala hoga so it will\n",
    "# take around 20 second but agar hum chale ki dono function ek sath run ho than we use multi threading isse time 10 sec ho jayega \n",
    "import threading \n",
    "import time\n",
    "\n",
    "def print_number():\n",
    "    for i in range(5):\n",
    "        time.sleep(2)\n",
    "        print(i)\n",
    "        \n",
    "def print_letter():\n",
    "    for i in 'abcde':\n",
    "        time.sleep(2)\n",
    "        print(i)\n",
    "\n",
    "# This is the way we can screate seperate thread for differeent functions \n",
    "t1=threading.Thread(target=print_number)\n",
    "t2=threading.Thread(target=print_letter)\n",
    "\n",
    "# Starting the thread/ Functions \n",
    "t1.start()\n",
    "t2.start()\n",
    "\n",
    "# waiting for the thread to complete \n",
    "t1.join()\n",
    "t2.join()"
   ]
  },
  {
   "cell_type": "markdown",
   "id": "7110fab0-646b-41f6-be49-ccab520b364c",
   "metadata": {},
   "source": [
    "## What is the use of multi processing ?"
   ]
  },
  {
   "cell_type": "code",
   "execution_count": 3,
   "id": "35d674b3-62a5-448f-9822-cda22da02cce",
   "metadata": {},
   "outputs": [],
   "source": [
    "# multi processiong that run in parallel\n",
    "# we can use this in cpu based task\n",
    "# we can also while using multiple core of the cpu\n",
    "import multiprocessing\n",
    "import time\n",
    "\n",
    "def a():\n",
    "    for i in range(5):\n",
    "        time.sleep(1)\n",
    "        print(i*i)\n",
    "\n",
    "def b():\n",
    "    for i in range(5):\n",
    "        time.sleep(1.5)\n",
    "        print(i*i*i)\n",
    "\n",
    "# Creating two processes\n",
    "p1= multiprocessing.Process(target=a)\n",
    "p2= multiprocessing.Process(target=b)\n",
    "\n",
    "# Starting the process \n",
    "p1.start()\n",
    "p2.start()\n",
    "\n",
    "# Waiting for the process to complete \n",
    "p1.join()\n",
    "p2.join()\n",
    "\n",
    "# Matlab idhar two differeent memory location se ye code execute hoga \n"
   ]
  },
  {
   "cell_type": "markdown",
   "id": "cd167dff-e988-49cb-aefd-19b52586566b",
   "metadata": {},
   "source": [
    "## More clear Explanation between thread and process "
   ]
  },
  {
   "cell_type": "code",
   "execution_count": 4,
   "id": "d0ecf7a1-c50c-498c-8d87-ca8d77cb8dc1",
   "metadata": {},
   "outputs": [],
   "source": [
    "# 🧵 Threading and Process — Like Little Workers in a House\n",
    "# Imagine your computer is a big house. Inside this house, there are rooms, and in each room, there are little workers doing jobs.\n",
    "\n",
    "# 🏠 Process = One Room in the House\n",
    "# A process is like one room in the house.\n",
    "# Inside the room, there's everything a worker needs — a desk, tools, and toys.\n",
    "\n",
    "# If you want to do another job, you open another room (another process), and that room has its own things and its own worker.\n",
    "\n",
    "# 🧵 Thread = More Workers in the Same Room\n",
    "# Now, instead of opening a new room, what if you put two or three workers in the same room?\n",
    "\n",
    "# They all share the toys and tools, and they can work together faster. That’s called threading."
   ]
  },
  {
   "cell_type": "markdown",
   "id": "b10a4470-864b-497c-a06c-3a04a7638394",
   "metadata": {},
   "source": [
    "## multithreading with thread pool executor "
   ]
  },
  {
   "cell_type": "code",
   "execution_count": null,
   "id": "6ac46d77-6989-4b06-9c20-26c345e6dae7",
   "metadata": {},
   "outputs": [],
   "source": [
    "from concurrent.futures import ThreadPoolExecutor \n",
    "import time \n",
    "\n",
    "def a(number):\n",
    "    time.sleep(1)\n",
    "    return number\n",
    "    \n",
    "numbers = [1,2,3,4,5]\n",
    "\n",
    "# This is the way to create multithreads \n",
    "with ThreadPoolExecutor(max_workers =5) as executor: # max_workers means kitne thread use karne hai is work ko karne ke liye \n",
    "    results = executor.map(a , numbers)\n",
    "\n",
    "for result in results :\n",
    "    print(result)"
   ]
  },
  {
   "cell_type": "markdown",
   "id": "8a81737e-2acf-4f02-9339-c6436a24746b",
   "metadata": {},
   "source": [
    "## multiprocessing with ProcessPoolExecutor"
   ]
  },
  {
   "cell_type": "code",
   "execution_count": null,
   "id": "3f9408b0-3aca-4e88-ad24-a519ef00defb",
   "metadata": {},
   "outputs": [],
   "source": [
    "from concurrent.futures import ProcessPoolExecutor\n",
    "import time \n",
    "\n",
    "def a(number):\n",
    "    time.sleep(1)\n",
    "    return number\n",
    "\n",
    "numbers = [1,2,3,4,5]\n",
    "if __name__ == \"__main__\":\n",
    "    with ProcessPoolExecutor(max_workers=3) as executor:\n",
    "        results = executor.map(a , numbers)\n",
    "    \n",
    "    for result in results:\n",
    "        print(result)"
   ]
  }
 ],
 "metadata": {
  "kernelspec": {
   "display_name": "Python 3 (ipykernel)",
   "language": "python",
   "name": "python3"
  },
  "language_info": {
   "codemirror_mode": {
    "name": "ipython",
    "version": 3
   },
   "file_extension": ".py",
   "mimetype": "text/x-python",
   "name": "python",
   "nbconvert_exporter": "python",
   "pygments_lexer": "ipython3",
   "version": "3.13.3"
  }
 },
 "nbformat": 4,
 "nbformat_minor": 5
}
