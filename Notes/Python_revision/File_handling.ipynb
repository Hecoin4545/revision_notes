{
 "cells": [
  {
   "cell_type": "markdown",
   "id": "18bb84e5-7640-45f3-b63e-e818dadfbc45",
   "metadata": {},
   "source": [
    "# File handling in python "
   ]
  },
  {
   "cell_type": "markdown",
   "id": "c0b2dafa-2256-4ac6-9d0a-55678d3a8e18",
   "metadata": {},
   "source": [
    "## Handling Text file using python "
   ]
  },
  {
   "cell_type": "code",
   "execution_count": null,
   "id": "53a6167d-6409-44f9-98ff-71723abac3bd",
   "metadata": {},
   "outputs": [],
   "source": [
    "# Read whole file at once \n",
    "fh = open(\"file path\" , 'r')\n",
    "data = fh.read()\n",
    "print(data) # it will provide data in the string format so we can use all the string methods \n",
    "\n",
    "# Reading file line by line \n",
    "data = fh.readline() # It will provide the first line only \n",
    "data = fh.readline() # It will provide the second line only \n",
    "data = fh.readline(10) # It will provide the third line first 10 character\n",
    "\n",
    "# Reading whole file and storing it in the form of list \n",
    "data = fh.readlines() # It will store data in the form a list with each line as different element and can use all the function of list \n",
    "\n",
    "# Writing data in a text file \n",
    "fh = open(\"file path\" , 'w')\n",
    "fh.write(\"Writing something \\n \")\n",
    "fh.write(\"Writing something part2 \\n \")\n",
    "\n",
    "# If we want to write more than one line than \n",
    "l = [\"line1\" , \"line2\" , \"line3\"]\n",
    "fh.writelines(l) \n",
    "\n",
    "fh.close()"
   ]
  },
  {
   "cell_type": "markdown",
   "id": "81ae2818-b363-473b-b3a5-da052e5d72ab",
   "metadata": {},
   "source": [
    " ## Handling Binary Files using python "
   ]
  },
  {
   "cell_type": "code",
   "execution_count": null,
   "id": "5f180ccc-7010-4250-9d76-6a411db4c084",
   "metadata": {},
   "outputs": [],
   "source": [
    "import pickle\n",
    "\n",
    "fh = open(\"file path\" , 'wb')\n",
    "\n",
    "l =10\n",
    "m= \"het\"\n",
    "\n",
    "# Stroing data in binary file \n",
    "pickle.dump(i,fh) # Will store 10 in file \n",
    "pickle.dump(m,fh) # Will store het in file\n",
    "\n",
    "# Reading data from a binary file \n",
    "fh = open(\"file path\" , 'rb')\n",
    "\n",
    "l = pickle.load(fh)\n",
    "m = pickle.load(fh)\n",
    "pirnt(l) # Will print 10 \n",
    "pirnt(m) # Will print Het \n",
    "\n",
    "fh.close()"
   ]
  },
  {
   "cell_type": "markdown",
   "id": "689349f5-72b8-4636-acda-209df15740ea",
   "metadata": {},
   "source": [
    "## Handling Csv File using python "
   ]
  },
  {
   "cell_type": "code",
   "execution_count": null,
   "id": "abfa7cd8-ec61-4525-8c4a-f6d3c867d258",
   "metadata": {},
   "outputs": [],
   "source": [
    "import csv \n",
    "\n",
    "# Reading a csv file \n",
    "fh = open(\"file path\" , 'r')\n",
    "ro = csv.reader(fh , delimeter = \",\")\n",
    "ld = list(ro)\n",
    "for row in ld:\n",
    "    print(row)\n",
    "\n",
    "# Wrting data in a csv file \n",
    "fh = open(\"file path\" , 'w')\n",
    "ro = csv.writer(fh,delimeter=\",\")\n",
    "ro.writerow([1,2,3,4])\n",
    "ro.writerow([1,2,3,5])\n",
    "\n",
    "# Writing multiple lines with just one function \n",
    "fh = open(\"file path\" , 'w')\n",
    "ro = csv.writer(fh,delimeter=\",\")\n",
    "data = [[1,2,3,4],[5,6,7,8],[9,1,243]]\n",
    "ro.writerows(data)\n",
    "\n",
    "fh.close()"
   ]
  }
 ],
 "metadata": {
  "kernelspec": {
   "display_name": "Python 3 (ipykernel)",
   "language": "python",
   "name": "python3"
  },
  "language_info": {
   "codemirror_mode": {
    "name": "ipython",
    "version": 3
   },
   "file_extension": ".py",
   "mimetype": "text/x-python",
   "name": "python",
   "nbconvert_exporter": "python",
   "pygments_lexer": "ipython3",
   "version": "3.13.3"
  }
 },
 "nbformat": 4,
 "nbformat_minor": 5
}
