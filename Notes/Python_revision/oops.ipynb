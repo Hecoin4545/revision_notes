{
 "cells": [
  {
   "cell_type": "markdown",
   "id": "b32ee3a0-c7ba-4999-b21f-dd35934c2ad3",
   "metadata": {},
   "source": [
    "# Object Oriented Programming "
   ]
  },
  {
   "cell_type": "markdown",
   "id": "15bfeab4-dc29-4341-84de-040fcf8641dd",
   "metadata": {},
   "source": [
    "## how to create class and use it "
   ]
  },
  {
   "cell_type": "code",
   "execution_count": 1,
   "id": "ce88d098-0b6d-4e65-af84-de30028b4be1",
   "metadata": {},
   "outputs": [],
   "source": [
    "class Home:\n",
    "    pass\n",
    "\n",
    "forum = Home()"
   ]
  },
  {
   "cell_type": "markdown",
   "id": "bf27d697-213e-47b4-9d8e-e44e972f3312",
   "metadata": {},
   "source": [
    "## how to create a constructor "
   ]
  },
  {
   "cell_type": "code",
   "execution_count": 6,
   "id": "adfb9012-3e3a-49d2-bf31-06795678b144",
   "metadata": {},
   "outputs": [
    {
     "name": "stdout",
     "output_type": "stream",
     "text": [
      "joe whose age is 12 barks like\n"
     ]
    }
   ],
   "source": [
    "class animal:\n",
    "    def __init__(self , name , age):\n",
    "        self.name = name\n",
    "        self.age = age \n",
    "\n",
    "    def bark(self):\n",
    "        print(f\"{self.name} whose age is {self.age} barks like\")\n",
    "cat = animal(\"joe\" , 12)\n",
    "cat.name\n",
    "cat.bark()\n",
    "\n",
    "# Here self.name is used to declared the name inside the function \n",
    "# and this self.name can be used in any other function "
   ]
  },
  {
   "cell_type": "markdown",
   "id": "06267806-4653-410a-8f69-fd2d121c912f",
   "metadata": {},
   "source": [
    "## Inheritance in OOPs"
   ]
  },
  {
   "cell_type": "code",
   "execution_count": null,
   "id": "5c2e86a5-b8c0-40b0-b7e0-d82bf5a6828c",
   "metadata": {},
   "outputs": [],
   "source": [
    "class Animal:\n",
    "    def __init__(self,owner):\n",
    "        self.owner = owner\n",
    "class Pet:\n",
    "    def __init__(self , animal):\n",
    "        self.animal = animal \n",
    "        "
   ]
  }
 ],
 "metadata": {
  "kernelspec": {
   "display_name": "Python 3 (ipykernel)",
   "language": "python",
   "name": "python3"
  },
  "language_info": {
   "codemirror_mode": {
    "name": "ipython",
    "version": 3
   },
   "file_extension": ".py",
   "mimetype": "text/x-python",
   "name": "python",
   "nbconvert_exporter": "python",
   "pygments_lexer": "ipython3",
   "version": "3.13.3"
  }
 },
 "nbformat": 4,
 "nbformat_minor": 5
}
