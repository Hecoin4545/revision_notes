{
 "cells": [
  {
   "cell_type": "markdown",
   "id": "563bb49c-9e1c-4c48-aee1-f51849e0312b",
   "metadata": {},
   "source": [
    "# Exception Handling In Python "
   ]
  },
  {
   "cell_type": "code",
   "execution_count": null,
   "id": "bce9c848-d1f0-4ace-b57c-84dedc48045e",
   "metadata": {},
   "outputs": [],
   "source": [
    "# There are many different kind of exception like ZeroDivisionError , ValueError , FileNotFoundError\n",
    "try:\n",
    "    result=1/2\n",
    "    a=b\n",
    "except ZeroDivisionError as ex:\n",
    "    print(ex)\n",
    "    print(\"Please enter the denominator greater than 0\")\n",
    "except Exception as ex1:\n",
    "    print(ex1)\n",
    "    print('Main exception got caught here')\n",
    "else:\n",
    "    print(f\"The result is {result}\")\n",
    "finally:\n",
    "    print(\"Execution complete.\")"
   ]
  }
 ],
 "metadata": {
  "kernelspec": {
   "display_name": "Python 3 (ipykernel)",
   "language": "python",
   "name": "python3"
  },
  "language_info": {
   "codemirror_mode": {
    "name": "ipython",
    "version": 3
   },
   "file_extension": ".py",
   "mimetype": "text/x-python",
   "name": "python",
   "nbconvert_exporter": "python",
   "pygments_lexer": "ipython3",
   "version": "3.13.3"
  }
 },
 "nbformat": 4,
 "nbformat_minor": 5
}
