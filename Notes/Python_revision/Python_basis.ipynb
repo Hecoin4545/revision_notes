{
 "cells": [
  {
   "cell_type": "markdown",
   "id": "c02f0c7c-fdb0-4857-a7e4-d679d8eacbef",
   "metadata": {},
   "source": [
    "# List Methods "
   ]
  },
  {
   "cell_type": "code",
   "execution_count": null,
   "id": "1a830dfd-7616-4cf7-a4a1-172d3ff24a46",
   "metadata": {},
   "outputs": [],
   "source": [
    "a = [1,2,3,4,5]\n",
    "\n",
    "# It will append element to the end \n",
    "a.append(6)\n",
    "\n",
    "# It will add element to the index mentioned \n",
    "a.insert(1,\"apple\")\n",
    "\n",
    "# It will remove the first occurance of an element so if there are two same element than it will remove the first one only  \n",
    "a.remove(\"apple\")\n",
    "\n",
    "# It will remove and return the last element \n",
    "a.pop()\n",
    "\n",
    "# It will give you the index of the first element of the list \n",
    "a.index(\"apple\")\n",
    "\n",
    "# It will count the number of element that is present in the list \n",
    "a.count(\"apple\")\n",
    "\n",
    "# will sort the list in ascending order \n",
    "a.sort()\n",
    "\n",
    "# will reverse the list \n",
    "a.reverse()\n",
    "\n",
    "# If we want to any list than \n",
    "a[::-1]\n",
    "\n",
    "# The first occarance will give you the index and second will give you the number \n",
    "for index,number in enumerate(numbers):\n",
    "    print(index,number)\n",
    "\n",
    "# Shorter way to write any list \n",
    "even_numbers=[num for num in range(10) if num%2==0]\n",
    "\n",
    "## List Comprehension with function calls\n",
    "words = [\"hello\", \"world\", \"python\", \"list\", \"comprehension\"]\n",
    "lengths = [len(word) for word in words]"
   ]
  },
  {
   "cell_type": "markdown",
   "id": "a95836a4-bfa6-4aa0-afa6-d5c3bfbb33cd",
   "metadata": {},
   "source": [
    "# Tuple Methods "
   ]
  },
  {
   "cell_type": "code",
   "execution_count": null,
   "id": "0a81245c-b618-4188-abd0-97f346f736bf",
   "metadata": {},
   "outputs": [],
   "source": [
    "a = (1,2,3,4,5)\n",
    "\n",
    "# it will count the number of elements in a tuple \n",
    "a.count(1)\n",
    "\n",
    "# Will give the index of the element asked \n",
    "a.index(3)\n",
    "\n",
    "# How to unpacked a tuple \n",
    "b,c,d,e,f = a\n",
    "print(b) # the ouput will be 1"
   ]
  },
  {
   "cell_type": "markdown",
   "id": "22533156-c9b6-4483-bacf-f19c7c967740",
   "metadata": {},
   "source": [
    "# Sets Methods "
   ]
  },
  {
   "cell_type": "code",
   "execution_count": null,
   "id": "e5c9bb4e-d1f3-409e-a6ed-8d7f05c6f123",
   "metadata": {},
   "outputs": [],
   "source": [
    "a = {1,2,3,4,5}\n",
    "\n",
    "# We can use basic set function like add ,union , superset , subset , symetric_difference \n",
    "\n",
    "# Remove function will remove element from the set and if it is not \n",
    "# present in the set than will give us error whereas discard won't give\n",
    "# any error if the element is not present in set \n",
    "a.remove(11) # will give error\n",
    "a.discard(21) # won't give error \n",
    "\n",
    "# Pop will remove and return the first element from the set \n",
    "a.pop()\n",
    "\n"
   ]
  },
  {
   "cell_type": "markdown",
   "id": "5df27564-aaf4-408c-b774-d11d4b60414f",
   "metadata": {},
   "source": [
    "# Dictionary Methods "
   ]
  },
  {
   "cell_type": "code",
   "execution_count": null,
   "id": "33b63f6b-703f-4bd2-aea0-599ac0e11a70",
   "metadata": {},
   "outputs": [],
   "source": [
    "# It will give a copy of the dictionary but on changing a it won't affect \n",
    "# b it will same as it is only \n",
    "a = {\"name\":\"het\"}\n",
    "b = a.copy()\n",
    "a['name'] = \"shah\"\n",
    "\n"
   ]
  },
  {
   "cell_type": "markdown",
   "id": "99385c14-1dce-477d-9fbd-c6ceeb894752",
   "metadata": {},
   "source": [
    "# Function and its methods "
   ]
  },
  {
   "cell_type": "code",
   "execution_count": null,
   "id": "d5fafba9-79e5-4718-b4b3-0b39974a90fe",
   "metadata": {},
   "outputs": [],
   "source": [
    "# If we want to provide n number of element where n is not defined \n",
    "# than in function we can use *args to do that \n",
    "def print_number(*args):\n",
    "    for i in args:\n",
    "        print(i)\n",
    "\n",
    "# If we want to provide dictionary where n is not defined than \n",
    "# we can use **kwargs instead \n",
    "def print_details(**kwargs):\n",
    "    for key , value in kwargs.items():\n",
    "        print(key , value )\n",
    "\n",
    "# lambda function \n",
    "addtion1 = lambda x,y,z:x+y+z\n",
    "\n",
    "# map function will do operation to all the elements in the list\n",
    "numbers = [1,2,3,4,5]\n",
    "list(map(lambda x:x**2 , numbers))\n",
    "\n",
    "# filter function will help us out in filtering the data from the list \n",
    "list(filter(lambda x:x>5 and x%2 == 0 , numbers))\n",
    "\n"
   ]
  }
 ],
 "metadata": {
  "kernelspec": {
   "display_name": "Python 3 (ipykernel)",
   "language": "python",
   "name": "python3"
  },
  "language_info": {
   "codemirror_mode": {
    "name": "ipython",
    "version": 3
   },
   "file_extension": ".py",
   "mimetype": "text/x-python",
   "name": "python",
   "nbconvert_exporter": "python",
   "pygments_lexer": "ipython3",
   "version": "3.13.3"
  }
 },
 "nbformat": 4,
 "nbformat_minor": 5
}
