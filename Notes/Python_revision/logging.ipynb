{
 "cells": [
  {
   "cell_type": "markdown",
   "id": "b968a2bb-1363-471b-bf90-6e2cf2cba713",
   "metadata": {},
   "source": [
    "# Logging in Python "
   ]
  },
  {
   "cell_type": "markdown",
   "id": "cdace921-5cb0-4b51-b65a-e0526cd54557",
   "metadata": {},
   "source": [
    "## Single Logging"
   ]
  },
  {
   "cell_type": "code",
   "execution_count": 3,
   "id": "1a1bcc4f-4301-473b-9e2b-31995bb18039",
   "metadata": {},
   "outputs": [],
   "source": [
    "import logging\n",
    "\n",
    "# writing basic login details \n",
    "logging.basicConfig(\n",
    "    filename='app.log',\n",
    "    filemode='w',\n",
    "    level = logging.DEBUG,\n",
    "    format='%(asctime)s-%(name)s-%(levelname)s-%(message)s', # It will display logs in this format\n",
    "    datefmt='%y-%m-%d %H:%M:%S' # it will display datetime in this format\n",
    ")\n",
    "\n",
    "# creating a logger for the specific logging \n",
    "loggers = logging.getLogger()\n",
    "\n",
    "# how we can create different logger on the basis of our requirement \n",
    "loggers.debug(\"This is a debug message\")\n",
    "loggers.warning(\"This is a debug message\")\n",
    "loggers.info(\"This is a debug message\")\n",
    "loggers.error(\"This is a debug message\")\n",
    "loggers.critical(\"This is a debug message\")"
   ]
  },
  {
   "cell_type": "markdown",
   "id": "091e0b97-8803-4d04-87f2-f6c25fc2b22d",
   "metadata": {},
   "source": [
    "## Creating multiple logging in python"
   ]
  },
  {
   "cell_type": "code",
   "execution_count": null,
   "id": "269bf1e5-5c5d-4b43-940f-191668ebc3fc",
   "metadata": {},
   "outputs": [],
   "source": [
    "import logging \n",
    "\n",
    "# lets say if we need two completely different logger one for backend and one for frontend how we can create it \n",
    "logger1 = logging.getLogger(\"frontend\")\n",
    "logger1.setLevel(logging.DEBUG) \n",
    "\n",
    "logger2 = logging.getLogger(\"backend\")\n",
    "logger2.setLevel(logging.WARNING) \n",
    "\n",
    "# This willbe the basic condition for logging \n",
    "logging.basicConfig(\n",
    "    filename=\"logs.log\",\n",
    "    filemode=\"w\",\n",
    "    level=logging.DEBUG,\n",
    "    format='%(asctime)s-%(name)s-%(levelname)s-%(message)s',\n",
    "    datefmt='%y-%m-%d %H:%M:%S',\n",
    "    handlers=[\n",
    "        logging.StreamHandler()\n",
    "    ]\n",
    ")\n",
    "\n",
    "# Now lets say if we want any message for frontend and other message for backend purpose only \n",
    "logger1.debug(\"This will be a debug message dispalyed only for frontend\")\n",
    "logger2.warning(\"This is a warning message displayed only for backend \")\n"
   ]
  }
 ],
 "metadata": {
  "kernelspec": {
   "display_name": "Python 3 (ipykernel)",
   "language": "python",
   "name": "python3"
  },
  "language_info": {
   "codemirror_mode": {
    "name": "ipython",
    "version": 3
   },
   "file_extension": ".py",
   "mimetype": "text/x-python",
   "name": "python",
   "nbconvert_exporter": "python",
   "pygments_lexer": "ipython3",
   "version": "3.13.3"
  }
 },
 "nbformat": 4,
 "nbformat_minor": 5
}
